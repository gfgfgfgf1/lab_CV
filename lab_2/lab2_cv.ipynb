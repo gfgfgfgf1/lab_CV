{
 "cells": [
  {
   "cell_type": "markdown",
   "metadata": {},
   "source": [
    "1. Реализовать функцию свертки (специфицировать размер и количество фильтров, входной тензор, stride, ...)\n",
    "$$O[m][x][y] = \\sum_{i=0}^{R-1}\\sum_{j=0}^{S-1}\\sum_{k=0}^{C-1}I[k][x+i][y+j] * W[m][k][i][j]$$\n",
    "2. Написать фунцию реализующую сверточный слой через im2col. Сделать проверку результата с помощью прямой реализации свертки.\n",
    "3. Специфицировать и написать функцию реализующиую Depthwise-separable свертку."
   ]
  },
  {
   "cell_type": "code",
   "execution_count": 1,
   "metadata": {},
   "outputs": [],
   "source": [
    "import numpy as np\n",
    "import torch\n",
    "from tqdm import tqdm"
   ]
  },
  {
   "cell_type": "markdown",
   "metadata": {},
   "source": [
    "## 1."
   ]
  },
  {
   "cell_type": "code",
   "execution_count": 68,
   "metadata": {},
   "outputs": [],
   "source": [
    "def convolution(input_tensor, matrix_weight, stride=1):\n",
    "    C, H_in, W_in = input_tensor.shape\n",
    "    \n",
    "    M, C, R, S = matrix_weight.shape\n",
    "    \n",
    "    H_out = (H_in - R) // stride + 1\n",
    "    W_out = (W_in - S) // stride + 1\n",
    "    \n",
    "    output = np.zeros((M, H_out, W_out))\n",
    "    \n",
    "    for m in range(M):\n",
    "        for x in range(H_out):\n",
    "            for y in range(W_out):\n",
    "                for i in range(R):\n",
    "                    for j in range(S):\n",
    "                        for c in range(C):\n",
    "                            output[m, x, y] += input_tensor[c, x * stride + i, y * stride + j] * matrix_weight[m, c, i, j]\n",
    "    \n",
    "    return output"
   ]
  },
  {
   "cell_type": "markdown",
   "metadata": {},
   "source": [
    "## 2."
   ]
  },
  {
   "cell_type": "code",
   "execution_count": 69,
   "metadata": {},
   "outputs": [],
   "source": [
    "def im2col(input_data, filter_h, filter_w, stride=1, pad=0):\n",
    "    C, H, W = input_data.shape\n",
    "    H_out = (H + 2 * pad - filter_h) // stride + 1\n",
    "    W_out = (W + 2 * pad - filter_w) // stride + 1\n",
    "\n",
    "    Input_padded = np.pad(input_data, [(0,0), (pad, pad), (pad, pad)], 'constant')\n",
    "    col = np.zeros((C * filter_h * filter_w, H_out * W_out))\n",
    "\n",
    "    i = 0\n",
    "    for y in range(0, H + 2 * pad - filter_h + 1, stride):\n",
    "        for x in range(0, W + 2 * pad - filter_w + 1, stride):\n",
    "            patch = Input_padded[:, y:y + filter_h, x:x + filter_w].reshape(C * filter_h * filter_w)\n",
    "            col[:, i] = patch\n",
    "            i += 1\n",
    "    \n",
    "    return col\n",
    "\n",
    "\n",
    "def convolution_im2col(input_tensor, matrix_weight, stride=1, pad=0):\n",
    "    C, H_in, W_in = input_tensor.shape\n",
    "    M, C, R, S = matrix_weight.shape\n",
    "    H_out = (H_in + 2 * pad - R) // stride + 1\n",
    "    W_out = (W_in + 2 * pad - S) // stride + 1\n",
    "\n",
    "    col = im2col(input_tensor, R, S, stride, pad)\n",
    "    col_W = matrix_weight.reshape(M, -1)\n",
    "    out = np.dot(col_W, col)\n",
    "\n",
    "    out = out.reshape(M, H_out, W_out)\n",
    "\n",
    "    return out"
   ]
  },
  {
   "cell_type": "markdown",
   "metadata": {},
   "source": [
    "## Проверка"
   ]
  },
  {
   "cell_type": "code",
   "execution_count": 100,
   "metadata": {},
   "outputs": [
    {
     "name": "stderr",
     "output_type": "stream",
     "text": [
      "100%|██████████| 5/5 [10:32<00:00, 126.53s/it]"
     ]
    },
    {
     "name": "stdout",
     "output_type": "stream",
     "text": [
      "Тест пройден успешно!\n"
     ]
    },
    {
     "name": "stderr",
     "output_type": "stream",
     "text": [
      "\n"
     ]
    }
   ],
   "source": [
    "size = 100\n",
    "for stride in tqdm([1,2,3,4,5]):\n",
    "    for channels in [1,2,3,4,5]:\n",
    "        for output_channels in [1,2,3,4,5]:\n",
    "            for filter_size in [3, 5, 7, 9]:\n",
    "                input_tensor = np.random.rand(channels, size, size) \n",
    "                matrix_weight = np.random.rand(output_channels, channels, filter_size, filter_size)\n",
    "                conv = convolution(input_tensor, matrix_weight, stride)\n",
    "                conv_im2col = convolution_im2col(input_tensor, matrix_weight, stride)\n",
    "                conv_torch = torch.nn.functional.conv2d(torch.Tensor(input_tensor), torch.Tensor(matrix_weight), stride=stride)\n",
    "                assert np.allclose(conv, conv_torch)\n",
    "                assert np.allclose(conv_im2col, conv_torch)\n",
    "print(\"Тест пройден успешно!\")            "
   ]
  }
 ],
 "metadata": {
  "kernelspec": {
   "display_name": "gpu",
   "language": "python",
   "name": "python3"
  },
  "language_info": {
   "codemirror_mode": {
    "name": "ipython",
    "version": 3
   },
   "file_extension": ".py",
   "mimetype": "text/x-python",
   "name": "python",
   "nbconvert_exporter": "python",
   "pygments_lexer": "ipython3",
   "version": "3.8.3"
  }
 },
 "nbformat": 4,
 "nbformat_minor": 2
}
